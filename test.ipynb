{
 "cells": [
  {
   "cell_type": "markdown",
   "id": "72817d45",
   "metadata": {},
   "source": [
    "Тестове завдання для вступу на курс Machine Learning in Production"
   ]
  },
  {
   "cell_type": "markdown",
   "id": "fba5f5df",
   "metadata": {},
   "source": [
    "Simple NLP ML for begginer"
   ]
  },
  {
   "cell_type": "code",
   "execution_count": 1,
   "id": "fee75bd4",
   "metadata": {},
   "outputs": [],
   "source": [
    "import pandas as pd\n",
    "import numpy as np\n",
    "from sklearn.feature_extraction.text import TfidfVectorizer\n",
    "from sklearn.linear_model import LinearRegression"
   ]
  },
  {
   "cell_type": "markdown",
   "id": "b9b88ee0",
   "metadata": {},
   "source": [
    "Get data from csv using pandas"
   ]
  },
  {
   "cell_type": "code",
   "execution_count": 2,
   "id": "d4379630",
   "metadata": {},
   "outputs": [],
   "source": [
    "test_df = pd.read_csv('test.csv')\n",
    "train_df = pd.read_csv('train.csv')"
   ]
  },
  {
   "cell_type": "markdown",
   "id": "5ecfcd3b",
   "metadata": {},
   "source": [
    "Get list of info from data"
   ]
  },
  {
   "cell_type": "code",
   "execution_count": 3,
   "id": "3fbf67d7",
   "metadata": {},
   "outputs": [],
   "source": [
    "train_list = train_df['excerpt'].values.tolist()\n",
    "target_list = train_df['target'].values.tolist()\n",
    "test_list = test_df['excerpt'].values.tolist()"
   ]
  },
  {
   "cell_type": "markdown",
   "id": "fdef6923",
   "metadata": {},
   "source": [
    "Set vectors"
   ]
  },
  {
   "cell_type": "code",
   "execution_count": 10,
   "id": "08f28a06",
   "metadata": {},
   "outputs": [],
   "source": [
    "vectorizer = TfidfVectorizer()\n",
    "x = vectorizer.fit_transform(train_list)\n",
    "y = vectorizer.transform(test_list)\n"
   ]
  },
  {
   "cell_type": "markdown",
   "id": "8c5e747c",
   "metadata": {},
   "source": [
    "Make prediction"
   ]
  },
  {
   "cell_type": "code",
   "execution_count": 11,
   "id": "0d4f27e5",
   "metadata": {},
   "outputs": [],
   "source": [
    "clf = LinearRegression().fit(x, target_list)\n",
    "\n",
    "pred = clf.predict(y)"
   ]
  },
  {
   "cell_type": "code",
   "execution_count": 12,
   "id": "7620a4e4",
   "metadata": {},
   "outputs": [],
   "source": [
    "predictions = pd.DataFrame()\n",
    "predictions['id'] = test_df['id']\n",
    "predictions['target'] = pred"
   ]
  },
  {
   "cell_type": "code",
   "execution_count": 14,
   "id": "442b682f",
   "metadata": {},
   "outputs": [
    {
     "data": {
      "text/html": [
       "<div>\n",
       "<style scoped>\n",
       "    .dataframe tbody tr th:only-of-type {\n",
       "        vertical-align: middle;\n",
       "    }\n",
       "\n",
       "    .dataframe tbody tr th {\n",
       "        vertical-align: top;\n",
       "    }\n",
       "\n",
       "    .dataframe thead th {\n",
       "        text-align: right;\n",
       "    }\n",
       "</style>\n",
       "<table border=\"1\" class=\"dataframe\">\n",
       "  <thead>\n",
       "    <tr style=\"text-align: right;\">\n",
       "      <th></th>\n",
       "      <th>id</th>\n",
       "      <th>target</th>\n",
       "    </tr>\n",
       "  </thead>\n",
       "  <tbody>\n",
       "    <tr>\n",
       "      <th>0</th>\n",
       "      <td>c0f722661</td>\n",
       "      <td>-1.622821</td>\n",
       "    </tr>\n",
       "    <tr>\n",
       "      <th>1</th>\n",
       "      <td>f0953f0a5</td>\n",
       "      <td>-0.576000</td>\n",
       "    </tr>\n",
       "    <tr>\n",
       "      <th>2</th>\n",
       "      <td>0df072751</td>\n",
       "      <td>0.067407</td>\n",
       "    </tr>\n",
       "    <tr>\n",
       "      <th>3</th>\n",
       "      <td>04caf4e0c</td>\n",
       "      <td>-1.429346</td>\n",
       "    </tr>\n",
       "    <tr>\n",
       "      <th>4</th>\n",
       "      <td>0e63f8bea</td>\n",
       "      <td>-1.290909</td>\n",
       "    </tr>\n",
       "    <tr>\n",
       "      <th>5</th>\n",
       "      <td>12537fe78</td>\n",
       "      <td>-0.463079</td>\n",
       "    </tr>\n",
       "    <tr>\n",
       "      <th>6</th>\n",
       "      <td>965e592c0</td>\n",
       "      <td>0.053753</td>\n",
       "    </tr>\n",
       "  </tbody>\n",
       "</table>\n",
       "</div>"
      ],
      "text/plain": [
       "          id    target\n",
       "0  c0f722661 -1.622821\n",
       "1  f0953f0a5 -0.576000\n",
       "2  0df072751  0.067407\n",
       "3  04caf4e0c -1.429346\n",
       "4  0e63f8bea -1.290909\n",
       "5  12537fe78 -0.463079\n",
       "6  965e592c0  0.053753"
      ]
     },
     "execution_count": 14,
     "metadata": {},
     "output_type": "execute_result"
    }
   ],
   "source": [
    "predictions"
   ]
  },
  {
   "cell_type": "markdown",
   "id": "57d857ba",
   "metadata": {},
   "source": [
    "Of course, this is shown here as an example of the simplest machine learning model, and it will not be accurate since we are analyzing the entire text string directly. Additionally, the text can be further cleaned of unnecessary characters and various parameters can be taken into account, such as text length, number of sentences in a paragraph, and the use of different numbers of adjectives and verbs."
   ]
  }
 ],
 "metadata": {
  "kernelspec": {
   "display_name": "Python 3 (ipykernel)",
   "language": "python",
   "name": "python3"
  },
  "language_info": {
   "codemirror_mode": {
    "name": "ipython",
    "version": 3
   },
   "file_extension": ".py",
   "mimetype": "text/x-python",
   "name": "python",
   "nbconvert_exporter": "python",
   "pygments_lexer": "ipython3",
   "version": "3.7.16"
  }
 },
 "nbformat": 4,
 "nbformat_minor": 5
}
